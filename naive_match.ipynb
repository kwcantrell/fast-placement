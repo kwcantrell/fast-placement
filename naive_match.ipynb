{
 "cells": [
  {
   "cell_type": "code",
   "execution_count": 28,
   "id": "696f18f3",
   "metadata": {},
   "outputs": [],
   "source": [
    "from skbio import TreeNode\n",
    "import gzip\n",
    "from collections import Counter, deque\n",
    "def extract_consenus(file):\n",
    "    f = open(file)\n",
    "    g_id = f.readline()[1:].strip()\n",
    "    seq = \"\"\n",
    "    lines = iter(f)\n",
    "    for line in lines:\n",
    "        if line[0] == '>':\n",
    "            yield (g_id, seq)\n",
    "            g_id = line[1:].strip()\n",
    "            seq = \"\" \n",
    "        else:\n",
    "            seq += line.strip()\n",
    "\n",
    "def extract_sample_sequence_counts(file):\n",
    "    f = gzip.open(file, 'rt')\n",
    "    s_count = Counter()\n",
    "    i = 0\n",
    "    for idx, line in enumerate(f):\n",
    "        if idx % 4 == 1:\n",
    "            s_count[line.strip()] += 1\n",
    "    \n",
    "    return s_count"
   ]
  },
  {
   "cell_type": "code",
   "execution_count": 29,
   "id": "8a705661",
   "metadata": {},
   "outputs": [],
   "source": [
    "consenus_genome = deque(\n",
    "    extract_consenus(\"2021-08-23_21-01-26-all_stringent_only.fas\"))"
   ]
  },
  {
   "cell_type": "code",
   "execution_count": null,
   "id": "30edea0c",
   "metadata": {},
   "outputs": [],
   "source": [
    "# sample 38879\n",
    "r1 = extract_sample_sequence_counts(\"SEARCH-38879__E0001197__P24__210924_A01535_0019_BHT7MHDSX2__S736_L004_R1_001.fastq.gz\")\n",
    "r2 = extract_sample_sequence_counts(\"SEARCH-38879__E0001197__P24__210924_A01535_0019_BHT7MHDSX2__S736_L004_R2_001.fastq.gz\")"
   ]
  },
  {
   "cell_type": "code",
   "execution_count": null,
   "id": "dec4f2bc",
   "metadata": {},
   "outputs": [],
   "source": [
    "matched_seq = deque()\n",
    "for r in [r1, r2]:\n",
    "    for seq, count in r.items():\n",
    "        if count > 1:\n",
    "            for genome, consensus_sequence in consenus_genome:\n",
    "                if seq in consensus_sequence:\n",
    "                    matched_seq.append(\"38879\")\n",
    "            "
   ]
  },
  {
   "cell_type": "code",
   "execution_count": null,
   "id": "341dde94",
   "metadata": {},
   "outputs": [],
   "source": []
  }
 ],
 "metadata": {
  "kernelspec": {
   "display_name": "Python 3 (ipykernel)",
   "language": "python",
   "name": "python3"
  },
  "language_info": {
   "codemirror_mode": {
    "name": "ipython",
    "version": 3
   },
   "file_extension": ".py",
   "mimetype": "text/x-python",
   "name": "python",
   "nbconvert_exporter": "python",
   "pygments_lexer": "ipython3",
   "version": "3.8.10"
  }
 },
 "nbformat": 4,
 "nbformat_minor": 5
}
