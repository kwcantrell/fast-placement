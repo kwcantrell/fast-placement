{
 "cells": [
  {
   "cell_type": "code",
   "execution_count": 1,
   "metadata": {},
   "outputs": [],
   "source": [
    "from skbio import TreeNode\n",
    "import gzip\n",
    "from collections import Counter, deque\n",
    "import time\n",
    "import numpy as np\n",
    "import pandas as pd\n",
    "from bp import parse_newick, from_skbio_treenode\n",
    "def extract_consenus(file):\n",
    "    f = open(file)\n",
    "    g_id = f.readline()[1:].strip()\n",
    "    seq = \"\"\n",
    "    lines = iter(f)\n",
    "    for line in lines:\n",
    "        if line[0] == '>':\n",
    "            yield (g_id, seq)\n",
    "            g_id = line[1:].strip()\n",
    "            seq = \"\" \n",
    "        else:\n",
    "            seq += line.strip()\n",
    "\n",
    "def extract_sample_read_counts(file):\n",
    "    f = gzip.open(file, 'rt')\n",
    "    s_count = Counter()\n",
    "    for idx, line in enumerate(f):\n",
    "        if idx % 4 == 1:\n",
    "            s_count[line.strip()] += 1\n",
    "    \n",
    "    return s_count"
   ]
  },
  {
   "cell_type": "code",
   "execution_count": 2,
   "metadata": {},
   "outputs": [],
   "source": [
    "consenus_genome = deque(\n",
    "    extract_consenus(\"2021-08-23_21-01-26-all_stringent_only.fas\"))\n",
    "genomes = [genome for genome, _ in consenus_genome]\n",
    "sequences = [sequence for _, sequence in consenus_genome]\n",
    "d = {'genome': genomes, 'sequences': sequences}\n",
    "consensus_genome_df = pd.DataFrame(data=d)\n",
    "consensus_genome_df['genome'] = consensus_genome_df.genome.str.replace('_',' ')"
   ]
  },
  {
   "cell_type": "markdown",
   "metadata": {},
   "source": [
    "# The following is a POC for a single sample"
   ]
  },
  {
   "cell_type": "code",
   "execution_count": 3,
   "metadata": {},
   "outputs": [],
   "source": [
    "# # sample 38879\n",
    "r1 = [(count, read) for read, count in extract_sample_read_counts(\n",
    "        \"SEARCH-38879__E0001197__P24__210924_A01535_0019_BHT7MHDSX2__S736_L004_R1_001.fastq.gz\").items() \n",
    "          if count > 1]\n",
    "r2 = [(count, seq) for seq, count in extract_sample_read_counts(\n",
    "        \"SEARCH-38879__E0001197__P24__210924_A01535_0019_BHT7MHDSX2__S736_L004_R2_001.fastq.gz\").items()\n",
    "           if count > 1]\n",
    "tree = TreeNode.read(\"2021-08-23_21-01-26-all_stringent_refs_hist.trimmed.aln.rooted.treefile\",)\n",
    "for i, n in enumerate(tree.postorder(include_self=True), 1):\n",
    "    if n.name is None:\n",
    "        n.name = str(i)\n",
    "tip_to_postorder = {n.name: i for i, n in enumerate(tree.postorder(include_self=True), 1) if n.is_tip() }\n",
    "bp_tree = from_skbio_treenode(tree)"
   ]
  },
  {
   "cell_type": "markdown",
   "metadata": {},
   "source": [
    "## get genomes per amplicon/feature table data"
   ]
  },
  {
   "cell_type": "code",
   "execution_count": 4,
   "metadata": {},
   "outputs": [
    {
     "name": "stdout",
     "output_type": "stream",
     "text": [
      "13.947154103999999\n"
     ]
    }
   ],
   "source": [
    "t1 = time.process_time()\n",
    "observed = {} # keeps track of which amplicons we have seen \n",
    "tips_per_read = [] # stores which genomes each unique amplicon is found in\n",
    "f_table_staged = []\n",
    "\n",
    "# TODO: will need to iterate over all samples\n",
    "for count, read in r1 + r2: # TODO: will need to create function to get the r1 and r2 reads per sample\n",
    "    if count > 10000: # just to test, the lower the value => more amplicons => much slower time\n",
    "        f_table_staged.append((\"sample_id_38879\", read, count)) # add sample/amplicon to feature table\n",
    "        \n",
    "        if read in observed: # amplicon was already seen in another sample\n",
    "            continue\n",
    "        \n",
    "        found = consensus_genome_df.loc[\n",
    "            consensus_genome_df.sequences.str.contains(read)\n",
    "        ]\n",
    "        \n",
    "        # currently discarding amplicon if its not found in atleast 1 genome\n",
    "        # Should we keep it??? \n",
    "        if found.size > 0:\n",
    "            tips_per_read.append((read, [tip_to_postorder[genome] for genome in found.genome])) \n",
    "t2 = time.process_time()\n",
    "print(t2-t1)"
   ]
  },
  {
   "cell_type": "markdown",
   "metadata": {},
   "source": [
    "## insert amplicons into tree via lca of the genomes they were found in"
   ]
  },
  {
   "cell_type": "code",
   "execution_count": 6,
   "metadata": {},
   "outputs": [
    {
     "name": "stdout",
     "output_type": "stream",
     "text": [
      "0.020300194999997245\n"
     ]
    }
   ],
   "source": [
    "t1 = time.process_time()\n",
    "def get_lca(tips, bp_tree):\n",
    "    if len(tips) == 1:\n",
    "        return bp_tree.name(bp_tree.postorderselect(tips[0]))\n",
    "    \n",
    "    lca = bp_tree.postorderselect(tips[0])\n",
    "    for tip in tips[1:]:\n",
    "        tip = bp_tree.postorderselect(tip)\n",
    "        lca = bp_tree.lca(lca, tip)\n",
    "        \n",
    "    return bp_tree.name(lca)\n",
    "\n",
    "for read, tips in tips_per_read:  \n",
    "    lca = tree.find(get_lca(tips, bp_tree))\n",
    "    lca.append(TreeNode(name=read))\n",
    "t2 = time.process_time()\n",
    "print(t2-t1)"
   ]
  },
  {
   "cell_type": "code",
   "execution_count": null,
   "metadata": {},
   "outputs": [],
   "source": []
  }
 ],
 "metadata": {
  "kernelspec": {
   "display_name": "Python 3",
   "language": "python",
   "name": "python3"
  },
  "language_info": {
   "codemirror_mode": {
    "name": "ipython",
    "version": 3
   },
   "file_extension": ".py",
   "mimetype": "text/x-python",
   "name": "python",
   "nbconvert_exporter": "python",
   "pygments_lexer": "ipython3",
   "version": "3.6.10"
  }
 },
 "nbformat": 4,
 "nbformat_minor": 5
}
